{
 "cells": [
  {
   "cell_type": "code",
   "execution_count": 1,
   "metadata": {},
   "outputs": [],
   "source": [
    "import boto3\n",
    "sess = boto3.Session()"
   ]
  },
  {
   "cell_type": "markdown",
   "metadata": {},
   "source": [
    "**Select a name for the ECR repository**  \n",
    "In this notebook we will build a docker image extending the AWS provided framework container for Tensorflow. Note that the base docker image URI points to the Framework container in the Frankfurt region (see the Dockerfile). Therefore we need to login to the respective ECR repository to build the image. Then we will create a private ECR repository, that we will use in our training pipeline.  "
   ]
  },
  {
   "cell_type": "code",
   "execution_count": 37,
   "metadata": {},
   "outputs": [
    {
     "name": "stdout",
     "output_type": "stream",
     "text": [
      "487575676995.dkr.ecr.eu-west-1.amazonaws.com\n"
     ]
    }
   ],
   "source": [
    "ecr_repo_name = 'sagemaker-kubernetes'\n",
    "\n",
    "region = boto3.Session().region_name\n",
    "account = boto3.client('sts').get_caller_identity().get('Account')\n",
    "ecr='{}.dkr.ecr.{}.amazonaws.com'.format(account, region)\n",
    "image = '{}.dkr.ecr.{}.amazonaws.com/{}:latest'.format(account, region, ecr_repo_name)"
   ]
  },
  {
   "cell_type": "markdown",
   "metadata": {},
   "source": [
    "**Extend the framework container image locally to contain the training scripts**"
   ]
  },
  {
   "cell_type": "code",
   "execution_count": null,
   "metadata": {},
   "outputs": [],
   "source": [
    "!aws ecr get-login-password --region $AWS_REGION | docker login --username AWS --password-stdin 763104351884.dkr.ecr.eu-central-1.amazonaws.com\n",
    "!docker build -t {ecr_repo_name}:latest ."
   ]
  },
  {
   "cell_type": "markdown",
   "metadata": {},
   "source": [
    "**Create the ECR repository**"
   ]
  },
  {
   "cell_type": "code",
   "execution_count": 29,
   "metadata": {},
   "outputs": [
    {
     "name": "stdout",
     "output_type": "stream",
     "text": [
      "{\n",
      "    \"repository\": {\n",
      "        \"repositoryArn\": \"arn:aws:ecr:eu-west-1:487575676995:repository/sagemaker-kubernetes\",\n",
      "        \"registryId\": \"487575676995\",\n",
      "        \"repositoryName\": \"sagemaker-kubernetes\",\n",
      "        \"repositoryUri\": \"487575676995.dkr.ecr.eu-west-1.amazonaws.com/sagemaker-kubernetes\",\n",
      "        \"createdAt\": \"2020-12-07T14:53:52+00:00\",\n",
      "        \"imageTagMutability\": \"MUTABLE\",\n",
      "        \"imageScanningConfiguration\": {\n",
      "            \"scanOnPush\": false\n",
      "        },\n",
      "        \"encryptionConfiguration\": {\n",
      "            \"encryptionType\": \"AES256\"\n",
      "        }\n",
      "    }\n",
      "}\n"
     ]
    }
   ],
   "source": [
    "!aws ecr create-repository --repository-name {ecr_repo_name}"
   ]
  },
  {
   "cell_type": "markdown",
   "metadata": {},
   "source": [
    "**Push image to ECR** \n",
    "\n",
    "To use the docker image we've just build, we have to push it to the elastic container registry in your account. Adopt `YOUR_ACCOUNT` in the login statement below to your `account`. After this step you can open the Elastic Container Registry in the AWS console, which will now contain the `sagemaker-kubernetes` repository. Afterwards can go back to `kfp-sagemaker-custom-container.ipynb`, where you will need the URI of the repository."
   ]
  },
  {
   "cell_type": "code",
   "execution_count": 41,
   "metadata": {},
   "outputs": [
    {
     "name": "stdout",
     "output_type": "stream",
     "text": [
      "487575676995\n"
     ]
    }
   ],
   "source": [
    "print(account)"
   ]
  },
  {
   "cell_type": "code",
   "execution_count": 40,
   "metadata": {},
   "outputs": [
    {
     "name": "stdout",
     "output_type": "stream",
     "text": [
      "/bin/sh: account: No such file or directory\n",
      "Exception ignored in: <_io.TextIOWrapper name='<stdout>' mode='w' encoding='UTF-8'>\n",
      "BrokenPipeError: [Errno 32] Broken pipe\n",
      "The push refers to repository [487575676995.dkr.ecr.eu-west-1.amazonaws.com/sagemaker-kubernetes]\n",
      "\n",
      "\u001b[1B6e852dc9: Preparing \n",
      "\u001b[1Bb368a7c4: Preparing \n",
      "\u001b[1B1a2038bc: Preparing \n",
      "\u001b[1B7357e737: Preparing \n",
      "\u001b[1B052dd016: Preparing \n",
      "\u001b[1Bc816fb0a: Preparing \n",
      "\u001b[1B18ec6a71: Preparing \n",
      "\u001b[1B3905242d: Preparing \n",
      "\u001b[1B8b80d2bf: Preparing \n",
      "\u001b[1Be3362d11: Preparing \n",
      "\u001b[1B35ef705a: Preparing \n",
      "\u001b[1B70b00abb: Preparing \n",
      "\u001b[1B65e3b791: Preparing \n",
      "\u001b[1Bab65fdde: Preparing \n",
      "\u001b[1Be0b9565e: Preparing \n",
      "\u001b[1Be418fe5e: Preparing \n",
      "\u001b[1Bdf588bd3: Preparing \n",
      "\u001b[1Bad7a4f60: Preparing \n",
      "\u001b[1B3815e182: Preparing \n",
      "\u001b[1B09e7d9d3: Preparing \n",
      "\u001b[1B947270f1: Preparing \n",
      "\u001b[1B1c774a30: Preparing \n",
      "\u001b[1Ba4b22186: Preparing \n",
      "\u001b[1Bafb09dc3: Preparing \n",
      "\u001b[1Bb5a53aac: Preparing \n",
      "\u001b[1Bc8e5063e: Preparing \n",
      "\u001b[1B7c529ced: Layer already exists \u001b[18A\u001b[2K\u001b[17A\u001b[2K\u001b[7A\u001b[2K\u001b[2A\u001b[2Klatest: digest: sha256:689458912bbdd4f3d239a981813a6ac4458a51b34e20626f3de436faef78df47 size: 5959\n"
     ]
    }
   ],
   "source": [
    "!aws ecr get-login-password --region $AWS_REGION | docker login --username AWS --password-stdin YOUR_ACCOUNT.dkr.ecr.eu-central-1.amazonaws.com\n",
    "!docker tag {ecr_repo_name}:latest {image}\n",
    "!docker push {image}"
   ]
  }
 ],
 "metadata": {
  "kernelspec": {
   "display_name": "conda_python3",
   "language": "python",
   "name": "conda_python3"
  },
  "language_info": {
   "codemirror_mode": {
    "name": "ipython",
    "version": 3
   },
   "file_extension": ".py",
   "mimetype": "text/x-python",
   "name": "python",
   "nbconvert_exporter": "python",
   "pygments_lexer": "ipython3",
   "version": "3.6.10"
  }
 },
 "nbformat": 4,
 "nbformat_minor": 4
}
